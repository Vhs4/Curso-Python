{
 "cells": [
  {
   "cell_type": "code",
   "execution_count": 27,
   "metadata": {},
   "outputs": [],
   "source": [
    "nota1 = float(input('Insira sua primeira nota'))\n",
    "nota2 = float(input('Insira sua segunda nota'))\n",
    "nome = (input('Insira seu nome'))"
   ]
  },
  {
   "cell_type": "code",
   "execution_count": 29,
   "metadata": {},
   "outputs": [
    {
     "name": "stdout",
     "output_type": "stream",
     "text": [
      "{'Nota 1': 80.0, 'Nota 2': 70.0, 'Média': 75.0, 'Nome': 'Victor Hugo'}\n"
     ]
    }
   ],
   "source": [
    "def funcao(nome): return {'Nota 1': nota1,'Nota 2': nota2,'Média': (nota1+nota2)/2,'Nome': nome}\n",
    "print(funcao(nome))"
   ]
  }
 ],
 "metadata": {
  "kernelspec": {
   "display_name": "venv",
   "language": "python",
   "name": "python3"
  },
  "language_info": {
   "codemirror_mode": {
    "name": "ipython",
    "version": 3
   },
   "file_extension": ".py",
   "mimetype": "text/x-python",
   "name": "python",
   "nbconvert_exporter": "python",
   "pygments_lexer": "ipython3",
   "version": "3.11.2"
  },
  "orig_nbformat": 4
 },
 "nbformat": 4,
 "nbformat_minor": 2
}
