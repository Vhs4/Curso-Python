{
 "cells": [
  {
   "cell_type": "code",
   "execution_count": 34,
   "metadata": {},
   "outputs": [],
   "source": [
    "notas = [8, 7, 8, 5]\n",
    "nome = input(('Insira seu nome'))\n"
   ]
  },
  {
   "cell_type": "code",
   "execution_count": 35,
   "metadata": {},
   "outputs": [
    {
     "name": "stdout",
     "output_type": "stream",
     "text": [
      "{'Nome': 'Victor Hugo', 'Nota 1': 8, 'Nota 2': 7, 'Nota 3': 8, 'Nota 4': 5, 'Média': 7.0}\n"
     ]
    }
   ],
   "source": [
    "def funcao(notas, nome):\n",
    "    return {\n",
    "        'Nome': nome,\n",
    "        'Nota 1': notas[0],\n",
    "        'Nota 2': notas[1],\n",
    "        'Nota 3': notas[2],\n",
    "        'Nota 4': notas[3],\n",
    "        'Média': sum(notas) / len(notas)\n",
    "    }\n",
    "\n",
    "print(funcao(notas, nome))"
   ]
  },
  {
   "cell_type": "code",
   "execution_count": null,
   "metadata": {},
   "outputs": [],
   "source": []
  }
 ],
 "metadata": {
  "kernelspec": {
   "display_name": "venv",
   "language": "python",
   "name": "python3"
  },
  "language_info": {
   "codemirror_mode": {
    "name": "ipython",
    "version": 3
   },
   "file_extension": ".py",
   "mimetype": "text/x-python",
   "name": "python",
   "nbconvert_exporter": "python",
   "pygments_lexer": "ipython3",
   "version": "3.11.2"
  },
  "orig_nbformat": 4
 },
 "nbformat": 4,
 "nbformat_minor": 2
}
