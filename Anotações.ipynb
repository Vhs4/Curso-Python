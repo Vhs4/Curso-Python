{
 "cells": [
  {
   "cell_type": "code",
   "execution_count": 3,
   "metadata": {},
   "outputs": [],
   "source": [
    "valor_1 = 1 #integer\n",
    "valor_2 = 2.5 #float\n",
    "valor_3 = 'Campos dos Goytacazes' #string\n",
    "valor_4 = True #boolean"
   ]
  },
  {
   "cell_type": "code",
   "execution_count": 9,
   "metadata": {},
   "outputs": [
    {
     "name": "stdout",
     "output_type": "stream",
     "text": [
      "A variável é de valor <class 'int'>\n",
      "A varioável é de valor <class 'int'>\n"
     ]
    }
   ],
   "source": [
    "print('A variável é de valor', type(valor_1))\n",
    "\n",
    "print('A varioável é de valor {}' .format(type(valor_1)))"
   ]
  },
  {
   "attachments": {},
   "cell_type": "markdown",
   "metadata": {},
   "source": [
    "# Casting"
   ]
  },
  {
   "attachments": {},
   "cell_type": "markdown",
   "metadata": {},
   "source": [
    "- int\n",
    "- str"
   ]
  },
  {
   "attachments": {},
   "cell_type": "markdown",
   "metadata": {},
   "source": [
    "# Operadores\n",
    "\n",
    "- Soma\n",
    "- Subtração\n",
    "- Multiplicação\n",
    "- Divisão\n",
    "- Exponenciação\n",
    "- Raiz"
   ]
  },
  {
   "cell_type": "code",
   "execution_count": 18,
   "metadata": {},
   "outputs": [
    {
     "name": "stdout",
     "output_type": "stream",
     "text": [
      "9.0\n"
     ]
    }
   ],
   "source": [
    "valor = 3\n",
    "calcularraiz = valor**(2/1)\n",
    "\n",
    "print(calcularraiz)"
   ]
  },
  {
   "attachments": {},
   "cell_type": "markdown",
   "metadata": {},
   "source": [
    " - Igual ==\n",
    " - Diferença !=\n",
    " - Maior >\n",
    " - Menor <"
   ]
  },
  {
   "cell_type": "code",
   "execution_count": 22,
   "metadata": {},
   "outputs": [
    {
     "data": {
      "text/plain": [
       "False"
      ]
     },
     "execution_count": 22,
     "metadata": {},
     "output_type": "execute_result"
    }
   ],
   "source": [
    "numero_1 = 10\n",
    "numero_2 = 20\n",
    "\n",
    "numero_1 == numero_2"
   ]
  },
  {
   "cell_type": "code",
   "execution_count": 28,
   "metadata": {},
   "outputs": [
    {
     "name": "stdout",
     "output_type": "stream",
     "text": [
      "False\n",
      "False\n"
     ]
    }
   ],
   "source": [
    "texto_1 = 'Campos'\n",
    "texto_2 = 'Camposs'\n",
    "\n",
    "print(texto_1 == texto_2)\n",
    "\n",
    "texto_3 = 'A'\n",
    "texto_4 = 'a'\n",
    "\n",
    "print(texto_3 == texto_4)"
   ]
  },
  {
   "cell_type": "code",
   "execution_count": 30,
   "metadata": {},
   "outputs": [
    {
     "data": {
      "text/plain": [
       "'caixacaixa'"
      ]
     },
     "execution_count": 30,
     "metadata": {},
     "output_type": "execute_result"
    }
   ],
   "source": [
    "palavra = 'caixa'\n",
    "\n",
    "palavra * 2"
   ]
  },
  {
   "attachments": {},
   "cell_type": "markdown",
   "metadata": {},
   "source": [
    "Instruções \n",
    "\n",
    "- if\n",
    "- else\n",
    "- elseif\n",
    "- elif"
   ]
  },
  {
   "cell_type": "code",
   "execution_count": 19,
   "metadata": {},
   "outputs": [
    {
     "name": "stdout",
     "output_type": "stream",
     "text": [
      "a é igual a a.\n"
     ]
    }
   ],
   "source": [
    "a = str(input('Digite a primeira letra: '))\n",
    "b = str(input('Digite a segunda letra: '))\n",
    "\n",
    "if (a == b):\n",
    "    print('{0} é igual a {1}.' .format(a, b))\n",
    "else:\n",
    "    print('{0} não é igual a {1}.' .format(a, b))\n"
   ]
  },
  {
   "cell_type": "code",
   "execution_count": 29,
   "metadata": {},
   "outputs": [
    {
     "name": "stdout",
     "output_type": "stream",
     "text": [
      "Número de meses inválido!\n"
     ]
    }
   ],
   "source": [
    "numero_meses = int(input('Insira o número de meses:'))\n",
    "if (numero_meses <= 10):\n",
    "    print('Menor ou igual a 10')\n",
    "elif (numero_meses <= 11):\n",
    "    print('Menor ou igual a 11')\n",
    "elif (numero_meses <= 12):\n",
    "    print('Menor ou igual a 12')\n",
    "else:\n",
    "    print('Número de meses inválido!')\n"
   ]
  },
  {
   "attachments": {},
   "cell_type": "markdown",
   "metadata": {},
   "source": [
    "Operadores lógicos\n",
    "\n",
    "- and\n",
    "- or\n",
    "- not\n",
    "- is\n",
    "- is not\n",
    "- in (Está contido)\n",
    "- not in (Não está contido)"
   ]
  },
  {
   "cell_type": "code",
   "execution_count": null,
   "metadata": {},
   "outputs": [],
   "source": [
    "lista_de_compras = ['Arroz', 'Ovo']\n",
    "\n",
    "checar = str(input('Digite o item que você quer chegar se está na lista'))\n",
    "\n",
    "if checar in lista_de_compras:\n",
    "    print('Sim, o item', checar, 'está na lista de compras.')\n",
    "else:\n",
    "    print('Não, o item', checar, 'não está na lista de compras.')"
   ]
  },
  {
   "cell_type": "code",
   "execution_count": 36,
   "metadata": {},
   "outputs": [
    {
     "name": "stdout",
     "output_type": "stream",
     "text": [
      "3 1\n"
     ]
    }
   ],
   "source": [
    "x = 1\n",
    "y = 3\n",
    "\n",
    "x, y = y, x\n",
    "\n",
    "print(x, y)"
   ]
  },
  {
   "attachments": {},
   "cell_type": "markdown",
   "metadata": {},
   "source": [
    "variavel = <valor1> if (true) else <valor2>"
   ]
  },
  {
   "attachments": {},
   "cell_type": "markdown",
   "metadata": {},
   "source": [
    "Escreva a mensagem 'Número: x', onde o número x varia de 1 a 10."
   ]
  },
  {
   "cell_type": "code",
   "execution_count": 3,
   "metadata": {},
   "outputs": [
    {
     "name": "stdout",
     "output_type": "stream",
     "text": [
      "Número: 1\n",
      "Número: 2\n",
      "Número: 3\n",
      "Número: 4\n",
      "Número: 5\n",
      "Número: 6\n",
      "Número: 7\n",
      "Número: 8\n",
      "Número: 9\n",
      "Número: 10\n"
     ]
    }
   ],
   "source": [
    "numero = 1\n",
    "\n",
    "print('Número: ' + str(numero))\n",
    "\n",
    "numero += 1\n",
    "\n",
    "print('Número: ' + str(numero))\n",
    "numero += 1\n",
    "\n",
    "print('Número: ' + str(numero))\n",
    "numero += 1\n",
    "\n",
    "print('Número: ' + str(numero))\n",
    "numero += 1\n",
    "\n",
    "print('Número: ' + str(numero))\n",
    "numero += 1\n",
    "\n",
    "print('Número: ' + str(numero))\n",
    "numero += 1\n",
    "\n",
    "print('Número: ' + str(numero))\n",
    "numero += 1\n",
    "\n",
    "print('Número: ' + str(numero))\n",
    "numero += 1\n",
    "\n",
    "print('Número: ' + str(numero))\n",
    "\n",
    "numero += 1\n",
    "\n",
    "print('Número: ' + str(numero))"
   ]
  },
  {
   "attachments": {},
   "cell_type": "markdown",
   "metadata": {},
   "source": [
    "Foi apresentado o loop e o while"
   ]
  },
  {
   "cell_type": "code",
   "execution_count": 12,
   "metadata": {},
   "outputs": [
    {
     "name": "stdout",
     "output_type": "stream",
     "text": [
      "Número: 1\n",
      "Número: 2\n",
      "Número: 3\n",
      "Número: 4\n",
      "Número: 5\n",
      "Número: 6\n",
      "Número: 7\n",
      "Número: 8\n",
      "Número: 9\n",
      "Número: 10\n"
     ]
    }
   ],
   "source": [
    "numero = 1\n",
    "while (numero <= 10):\n",
    "    print('Número: ' + str(numero))\n",
    "    numero += 1"
   ]
  },
  {
   "attachments": {},
   "cell_type": "markdown",
   "metadata": {},
   "source": [
    "Foi apresentado o for"
   ]
  },
  {
   "cell_type": "code",
   "execution_count": null,
   "metadata": {},
   "outputs": [],
   "source": [
    "texto = \"Paralelepípedo\"\n",
    "type(texto)"
   ]
  },
  {
   "cell_type": "code",
   "execution_count": null,
   "metadata": {},
   "outputs": [],
   "source": [
    "for letra in texto:\n",
    "    print(letra)"
   ]
  },
  {
   "attachments": {},
   "cell_type": "markdown",
   "metadata": {},
   "source": [
    "Foi apresentado o range\n",
    "range ([start], stop, [step])"
   ]
  },
  {
   "cell_type": "code",
   "execution_count": 15,
   "metadata": {},
   "outputs": [
    {
     "name": "stdout",
     "output_type": "stream",
     "text": [
      "1\n",
      "2\n",
      "3\n",
      "4\n",
      "5\n",
      "6\n",
      "7\n",
      "8\n",
      "9\n",
      "10\n"
     ]
    }
   ],
   "source": [
    "for n in range(1, 11, 1):\n",
    "    print(n)"
   ]
  },
  {
   "cell_type": "code",
   "execution_count": 17,
   "metadata": {},
   "outputs": [
    {
     "name": "stdout",
     "output_type": "stream",
     "text": [
      "1\n",
      "2\n",
      "3\n",
      "4\n",
      "5\n",
      "6\n",
      "7\n",
      "8\n",
      "9\n",
      "10\n"
     ]
    }
   ],
   "source": [
    "for a in range(1, 11):\n",
    "    print(a)"
   ]
  },
  {
   "cell_type": "code",
   "execution_count": 23,
   "metadata": {},
   "outputs": [
    {
     "data": {
      "text/plain": [
       "[1, 2, 3, 4, 5, 6, 7, 8, 9, 10]"
      ]
     },
     "execution_count": 23,
     "metadata": {},
     "output_type": "execute_result"
    }
   ],
   "source": [
    "lista = [1, 2, 3, 4, 5, 6, 7, 8, 9, 10]\n",
    "lista"
   ]
  },
  {
   "cell_type": "code",
   "execution_count": 24,
   "metadata": {},
   "outputs": [
    {
     "name": "stdout",
     "output_type": "stream",
     "text": [
      "1\n",
      "2\n",
      "3\n",
      "4\n",
      "5\n",
      "6\n",
      "7\n",
      "8\n",
      "9\n",
      "10\n"
     ]
    }
   ],
   "source": [
    "for aa in lista:\n",
    "    print(aa)"
   ]
  },
  {
   "cell_type": "code",
   "execution_count": 29,
   "metadata": {},
   "outputs": [
    {
     "data": {
      "text/plain": [
       "[0, 1, 2, 3, 4]"
      ]
     },
     "execution_count": 29,
     "metadata": {},
     "output_type": "execute_result"
    }
   ],
   "source": [
    "numeros = range(5) #Começa de 0 e vai até 4\n",
    "list(numeros)\n"
   ]
  },
  {
   "cell_type": "code",
   "execution_count": 30,
   "metadata": {},
   "outputs": [
    {
     "name": "stdout",
     "output_type": "stream",
     "text": [
      "carne\n",
      "leite\n",
      "arroz\n"
     ]
    }
   ],
   "source": [
    "lista_de_compras = ['Carne', 'Leite', 'Arroz']\n",
    "for compras in lista_de_compras:\n",
    "    print(compras)"
   ]
  },
  {
   "attachments": {},
   "cell_type": "markdown",
   "metadata": {},
   "source": [
    "- Listas\n",
    "- Pilhas\n",
    "- Tuplas\n",
    "- Dicionários\n",
    "- Set\n",
    "- Árvore"
   ]
  },
  {
   "cell_type": "code",
   "execution_count": 6,
   "metadata": {},
   "outputs": [
    {
     "data": {
      "text/plain": [
       "[1, 2, 3, 4.0, 'a', True]"
      ]
     },
     "execution_count": 6,
     "metadata": {},
     "output_type": "execute_result"
    }
   ],
   "source": [
    "lista = [1, 2, 3, 4.0, 'a', True]\n",
    "type(lista)"
   ]
  },
  {
   "cell_type": "code",
   "execution_count": 7,
   "metadata": {},
   "outputs": [
    {
     "data": {
      "text/plain": [
       "[1, 2, 3, 4.0, 'a', True]"
      ]
     },
     "execution_count": 7,
     "metadata": {},
     "output_type": "execute_result"
    }
   ],
   "source": [
    "lista"
   ]
  },
  {
   "cell_type": "code",
   "execution_count": 8,
   "metadata": {},
   "outputs": [
    {
     "data": {
      "text/plain": [
       "1"
      ]
     },
     "execution_count": 8,
     "metadata": {},
     "output_type": "execute_result"
    }
   ],
   "source": [
    "lista[0]"
   ]
  },
  {
   "cell_type": "code",
   "execution_count": 9,
   "metadata": {},
   "outputs": [
    {
     "data": {
      "text/plain": [
       "6"
      ]
     },
     "execution_count": 9,
     "metadata": {},
     "output_type": "execute_result"
    }
   ],
   "source": [
    "len(lista)"
   ]
  },
  {
   "cell_type": "code",
   "execution_count": 10,
   "metadata": {},
   "outputs": [
    {
     "data": {
      "text/plain": [
       "True"
      ]
     },
     "execution_count": 10,
     "metadata": {},
     "output_type": "execute_result"
    }
   ],
   "source": [
    "lista[-1]"
   ]
  },
  {
   "cell_type": "code",
   "execution_count": 38,
   "metadata": {},
   "outputs": [
    {
     "data": {
      "text/plain": [
       "list"
      ]
     },
     "execution_count": 38,
     "metadata": {},
     "output_type": "execute_result"
    }
   ],
   "source": [
    "listacomlistasdentro = [['Coluna 1', 'Coluna 2', 'Coluna 3'], [1, 2, 3]]\n",
    "listacomlistasdentro[0][0]"
   ]
  },
  {
   "cell_type": "code",
   "execution_count": 60,
   "metadata": {},
   "outputs": [
    {
     "data": {
      "text/plain": [
       "[1, 2, 3, 4, 5, 6]"
      ]
     },
     "execution_count": 60,
     "metadata": {},
     "output_type": "execute_result"
    }
   ],
   "source": [
    "listanumber = [2,3,4]\n",
    "examplelista = [1] + listanumber + [5,6]\n",
    "examplelista"
   ]
  },
  {
   "cell_type": "code",
   "execution_count": 61,
   "metadata": {},
   "outputs": [
    {
     "data": {
      "text/plain": [
       "[1, 2, 3, 4, 5]"
      ]
     },
     "execution_count": 61,
     "metadata": {},
     "output_type": "execute_result"
    }
   ],
   "source": [
    "examplelista.append(10)\n",
    "examplelista.pop()\n",
    "examplelista"
   ]
  },
  {
   "cell_type": "code",
   "execution_count": 66,
   "metadata": {},
   "outputs": [
    {
     "data": {
      "text/plain": [
       "['T', 'a', 'a', 'h', 'n', 'o', 'c', 'm', 'l', 's', 'a']"
      ]
     },
     "execution_count": 66,
     "metadata": {},
     "output_type": "execute_result"
    }
   ],
   "source": [
    "fatiandolista = list('Trabalhando com lista')\n",
    "fatiandolista[0:8]\n",
    "fatiandolista[:]\n",
    "fatiandolista[::2]"
   ]
  },
  {
   "cell_type": "code",
   "execution_count": 67,
   "metadata": {},
   "outputs": [
    {
     "name": "stdout",
     "output_type": "stream",
     "text": [
      "Eu me chamo Victor\n"
     ]
    }
   ],
   "source": [
    "listaaa = ['Eu me chamo Victor']\n",
    "for a in listaaa:\n",
    "    print(a)"
   ]
  },
  {
   "cell_type": "code",
   "execution_count": 78,
   "metadata": {},
   "outputs": [
    {
     "data": {
      "text/plain": [
       "[['Eae, tudo bem?'], ['Opa, tudo bem?']]"
      ]
     },
     "execution_count": 78,
     "metadata": {},
     "output_type": "execute_result"
    }
   ],
   "source": [
    "listab = [['Oiii, tudo bem?'], ['Eae, tudo bem?'], ['Opa, tudo bem?']]\n",
    "\n",
    "del(listab[0:1])\n",
    "listab"
   ]
  },
  {
   "cell_type": "code",
   "execution_count": 17,
   "metadata": {},
   "outputs": [
    {
     "data": {
      "text/plain": [
       "[9, 7, 5, 3, 1]"
      ]
     },
     "execution_count": 17,
     "metadata": {},
     "output_type": "execute_result"
    }
   ],
   "source": [
    "listaaula = [1, 3, 5, 7, 9]\n",
    "listaaula.reverse()\n",
    "listaaula"
   ]
  },
  {
   "cell_type": "code",
   "execution_count": 18,
   "metadata": {},
   "outputs": [
    {
     "data": {
      "text/plain": [
       "[1, 3, 5, 7, 9]"
      ]
     },
     "execution_count": 18,
     "metadata": {},
     "output_type": "execute_result"
    }
   ],
   "source": [
    "listaaula.sort()\n",
    "listaaula"
   ]
  },
  {
   "cell_type": "code",
   "execution_count": 19,
   "metadata": {},
   "outputs": [
    {
     "data": {
      "text/plain": [
       "2"
      ]
     },
     "execution_count": 19,
     "metadata": {},
     "output_type": "execute_result"
    }
   ],
   "source": [
    "listatexto = ['Feijão', 'Arroz', 'Feijão', 'Carne']\n",
    "listatexto.count('Feijão')"
   ]
  },
  {
   "cell_type": "code",
   "execution_count": 20,
   "metadata": {},
   "outputs": [
    {
     "data": {
      "text/plain": [
       "1"
      ]
     },
     "execution_count": 20,
     "metadata": {},
     "output_type": "execute_result"
    }
   ],
   "source": [
    "listatexto.index('Arroz')"
   ]
  },
  {
   "cell_type": "code",
   "execution_count": 22,
   "metadata": {},
   "outputs": [
    {
     "data": {
      "text/plain": [
       "('C', 'o', 'x', 'i', 'n', 'h', 'a')"
      ]
     },
     "execution_count": 22,
     "metadata": {},
     "output_type": "execute_result"
    }
   ],
   "source": [
    "tuplaaaa = tuple('Coxinha')\n",
    "tuplaaaa"
   ]
  },
  {
   "cell_type": "code",
   "execution_count": 28,
   "metadata": {},
   "outputs": [
    {
     "data": {
      "text/plain": [
       "('0', '.', '3')"
      ]
     },
     "execution_count": 28,
     "metadata": {},
     "output_type": "execute_result"
    }
   ],
   "source": [
    "items = 1, 3.0, True\n",
    "items = tuple(reversed('3.0'))\n",
    "items"
   ]
  },
  {
   "cell_type": "code",
   "execution_count": 29,
   "metadata": {},
   "outputs": [
    {
     "data": {
      "text/plain": [
       "range(0, 10)"
      ]
     },
     "execution_count": 29,
     "metadata": {},
     "output_type": "execute_result"
    }
   ],
   "source": [
    "range(10)"
   ]
  },
  {
   "cell_type": "code",
   "execution_count": null,
   "metadata": {},
   "outputs": [],
   "source": [
    "listatexto.index('Arroz')"
   ]
  },
  {
   "cell_type": "code",
   "execution_count": 55,
   "metadata": {},
   "outputs": [
    {
     "name": "stdout",
     "output_type": "stream",
     "text": [
      "O feijão está na lista!\n",
      "O feijão está na lista!\n"
     ]
    }
   ],
   "source": [
    "for item in listatexto:\n",
    "        if item == 'Feijão':\n",
    "                print('O feijão está na lista!')"
   ]
  },
  {
   "cell_type": "code",
   "execution_count": 57,
   "metadata": {},
   "outputs": [
    {
     "name": "stdout",
     "output_type": "stream",
     "text": [
      "O arroz está na lista!\n"
     ]
    }
   ],
   "source": [
    "if 'Arroz' in listatexto: print ('O arroz está na lista!')"
   ]
  },
  {
   "cell_type": "code",
   "execution_count": 61,
   "metadata": {},
   "outputs": [
    {
     "name": "stdout",
     "output_type": "stream",
     "text": [
      "Macarrão não está na lista!\n"
     ]
    }
   ],
   "source": [
    "if 'Macarrão' in listatexto: print ('O macarrão está na lista!')\n",
    "else: print('Macarrão não está na lista!')"
   ]
  },
  {
   "cell_type": "code",
   "execution_count": 63,
   "metadata": {},
   "outputs": [
    {
     "name": "stdout",
     "output_type": "stream",
     "text": [
      "Não há couve na lista!\n"
     ]
    }
   ],
   "source": [
    "if 'Couve' not in listatexto: print('Não há couve na lista!')"
   ]
  },
  {
   "cell_type": "code",
   "execution_count": 65,
   "metadata": {},
   "outputs": [
    {
     "data": {
      "text/plain": [
       "'Tutorial para descer a linha do texto\\nassim funciona'"
      ]
     },
     "execution_count": 65,
     "metadata": {},
     "output_type": "execute_result"
    }
   ],
   "source": [
    "texto = '''Tutorial para descer a linha do texto\n",
    "assim funciona'''\n",
    "\n",
    "texto"
   ]
  },
  {
   "cell_type": "code",
   "execution_count": 71,
   "metadata": {},
   "outputs": [
    {
     "data": {
      "text/plain": [
       "['Tutorial para descer a linha do texto', 'assim funciona']"
      ]
     },
     "execution_count": 71,
     "metadata": {},
     "output_type": "execute_result"
    }
   ],
   "source": [
    "texto.split(\"\\n\")"
   ]
  },
  {
   "cell_type": "code",
   "execution_count": 76,
   "metadata": {},
   "outputs": [
    {
     "data": {
      "text/plain": [
       "'Tutorial para descer a linha do texto, assim funciona!'"
      ]
     },
     "execution_count": 76,
     "metadata": {},
     "output_type": "execute_result"
    }
   ],
   "source": [
    "textoo = '''Tutorial para descer a linha do texto, \n",
    "assim funciona!'''\n",
    "textoo.replace(\"\\n\", \"\")"
   ]
  },
  {
   "cell_type": "code",
   "execution_count": 91,
   "metadata": {},
   "outputs": [
    {
     "data": {
      "text/plain": [
       "'Como fazer para descer a linha do texto\\nassim funciona'"
      ]
     },
     "execution_count": 91,
     "metadata": {},
     "output_type": "execute_result"
    }
   ],
   "source": [
    "texto2 = '''Tutorial para descer a linha do texto\n",
    "assim funciona'''\n",
    "\n",
    "texto2.replace('Tutorial', 'Como fazer')"
   ]
  },
  {
   "cell_type": "code",
   "execution_count": 94,
   "metadata": {},
   "outputs": [
    {
     "data": {
      "text/plain": [
       "'Tutorial para descer a linha do texto assim funciona'"
      ]
     },
     "execution_count": 94,
     "metadata": {},
     "output_type": "execute_result"
    }
   ],
   "source": [
    "texto = texto2.replace('\\n', ' ')\n",
    "texto"
   ]
  },
  {
   "attachments": {},
   "cell_type": "markdown",
   "metadata": {},
   "source": [
    "- Dicionários\n",
    "\n",
    "São utilizados para armazenar dados no formato:\n",
    "\n",
    "dicionario = {}"
   ]
  },
  {
   "cell_type": "code",
   "execution_count": 6,
   "metadata": {},
   "outputs": [],
   "source": [
    "dicionario = {}"
   ]
  },
  {
   "cell_type": "code",
   "execution_count": 7,
   "metadata": {},
   "outputs": [
    {
     "data": {
      "text/plain": [
       "dict"
      ]
     },
     "execution_count": 7,
     "metadata": {},
     "output_type": "execute_result"
    }
   ],
   "source": [
    "type(dicionario)"
   ]
  },
  {
   "cell_type": "code",
   "execution_count": 2,
   "metadata": {},
   "outputs": [],
   "source": [
    "funcionarios = {}"
   ]
  },
  {
   "cell_type": "code",
   "execution_count": 5,
   "metadata": {},
   "outputs": [],
   "source": [
    "funcionarios['1'] = 'Astolfo'"
   ]
  },
  {
   "cell_type": "code",
   "execution_count": 7,
   "metadata": {},
   "outputs": [
    {
     "data": {
      "text/plain": [
       "{'1': 'Astolfo'}"
      ]
     },
     "execution_count": 7,
     "metadata": {},
     "output_type": "execute_result"
    }
   ],
   "source": [
    "funcionarios"
   ]
  },
  {
   "cell_type": "code",
   "execution_count": 8,
   "metadata": {},
   "outputs": [],
   "source": [
    "funcionarios[2] = 'Amora'"
   ]
  },
  {
   "cell_type": "code",
   "execution_count": 9,
   "metadata": {},
   "outputs": [
    {
     "data": {
      "text/plain": [
       "{'1': 'Astolfo', 2: 'Amora'}"
      ]
     },
     "execution_count": 9,
     "metadata": {},
     "output_type": "execute_result"
    }
   ],
   "source": [
    "funcionarios"
   ]
  },
  {
   "cell_type": "code",
   "execution_count": 10,
   "metadata": {},
   "outputs": [
    {
     "data": {
      "text/plain": [
       "'Amora'"
      ]
     },
     "execution_count": 10,
     "metadata": {},
     "output_type": "execute_result"
    }
   ],
   "source": [
    "funcionarios[2]"
   ]
  },
  {
   "cell_type": "code",
   "execution_count": 12,
   "metadata": {},
   "outputs": [],
   "source": [
    "lista_telefonica = {}\n",
    "\n",
    "lista_telefonica['Maria'] = '30301122'\n",
    "lista_telefonica['Ana'] = '33547877'\n",
    "lista_telefonica['Carlos'] = '33381245'\n",
    "lista_telefonica['Fernando'] = '36458899'\n"
   ]
  },
  {
   "cell_type": "code",
   "execution_count": 13,
   "metadata": {},
   "outputs": [
    {
     "data": {
      "text/plain": [
       "{'Maria': '30301122',\n",
       " 'Ana': '33547877',\n",
       " 'Carlos': '33381245',\n",
       " 'Fernando': '36458899'}"
      ]
     },
     "execution_count": 13,
     "metadata": {},
     "output_type": "execute_result"
    }
   ],
   "source": [
    "lista_telefonica"
   ]
  },
  {
   "cell_type": "code",
   "execution_count": 16,
   "metadata": {},
   "outputs": [],
   "source": [
    "del(lista_telefonica['Carlos'])"
   ]
  },
  {
   "cell_type": "code",
   "execution_count": 17,
   "metadata": {},
   "outputs": [
    {
     "data": {
      "text/plain": [
       "{'Maria': '30301122', 'Ana': '33547877', 'Fernando': '36458899'}"
      ]
     },
     "execution_count": 17,
     "metadata": {},
     "output_type": "execute_result"
    }
   ],
   "source": [
    "lista_telefonica"
   ]
  },
  {
   "cell_type": "code",
   "execution_count": 19,
   "metadata": {},
   "outputs": [],
   "source": [
    "funcionarios = {\n",
    "    'Pedro': 1,\n",
    "    'João': 2,\n",
    "    'Osvaldo': 3,\n",
    "    'Henrique': 4\n",
    "}"
   ]
  },
  {
   "cell_type": "code",
   "execution_count": 20,
   "metadata": {},
   "outputs": [
    {
     "data": {
      "text/plain": [
       "{'Pedro': 1, 'João': 2, 'Osvaldo': 3, 'Henrique': 4}"
      ]
     },
     "execution_count": 20,
     "metadata": {},
     "output_type": "execute_result"
    }
   ],
   "source": [
    "funcionarios"
   ]
  },
  {
   "cell_type": "code",
   "execution_count": 22,
   "metadata": {},
   "outputs": [
    {
     "data": {
      "text/plain": [
       "dict_keys(['Pedro', 'João', 'Osvaldo', 'Henrique'])"
      ]
     },
     "execution_count": 22,
     "metadata": {},
     "output_type": "execute_result"
    }
   ],
   "source": [
    "funcionarios.keys()"
   ]
  },
  {
   "cell_type": "code",
   "execution_count": 23,
   "metadata": {},
   "outputs": [
    {
     "data": {
      "text/plain": [
       "1"
      ]
     },
     "execution_count": 23,
     "metadata": {},
     "output_type": "execute_result"
    }
   ],
   "source": [
    "funcionarios['Pedro']"
   ]
  },
  {
   "cell_type": "code",
   "execution_count": 24,
   "metadata": {},
   "outputs": [
    {
     "data": {
      "text/plain": [
       "'30301122'"
      ]
     },
     "execution_count": 24,
     "metadata": {},
     "output_type": "execute_result"
    }
   ],
   "source": [
    "lista_telefonica['Maria']"
   ]
  },
  {
   "attachments": {},
   "cell_type": "markdown",
   "metadata": {},
   "source": [
    "- Funções\n",
    "\n",
    "É um bloco de código que é executado somente quando é chamado, onde podemos passar dados como parâmetros além da possibilidade de retornar dados"
   ]
  },
  {
   "cell_type": "code",
   "execution_count": 26,
   "metadata": {},
   "outputs": [],
   "source": [
    "def my_function ():\n",
    "    print('Hello world!')"
   ]
  },
  {
   "cell_type": "code",
   "execution_count": 29,
   "metadata": {},
   "outputs": [
    {
     "name": "stdout",
     "output_type": "stream",
     "text": [
      "Hello world!\n"
     ]
    }
   ],
   "source": [
    "my_function()"
   ]
  },
  {
   "cell_type": "code",
   "execution_count": 42,
   "metadata": {},
   "outputs": [],
   "source": [
    "def escrevernome (nome):\n",
    "    print('Olá', nome + '!')"
   ]
  },
  {
   "cell_type": "code",
   "execution_count": 43,
   "metadata": {},
   "outputs": [
    {
     "name": "stdout",
     "output_type": "stream",
     "text": [
      "Olá Victor!\n",
      "None\n"
     ]
    }
   ],
   "source": [
    "nome = 'Victor'\n",
    "print(escrevernome(nome))"
   ]
  },
  {
   "cell_type": "code",
   "execution_count": 72,
   "metadata": {},
   "outputs": [],
   "source": [
    "def formataNomeseRetornarvalor(nome, sobrenome):\n",
    "    return nome +' '+ sobrenome\n"
   ]
  },
  {
   "cell_type": "code",
   "execution_count": 73,
   "metadata": {},
   "outputs": [
    {
     "name": "stdout",
     "output_type": "stream",
     "text": [
      "Pedro Gonçalves\n"
     ]
    }
   ],
   "source": [
    "nome = 'Pedro'\n",
    "sobrenome = 'Gonçalves'\n",
    "\n",
    "print(formataNomeseRetornarvalor(nome, sobrenome))"
   ]
  },
  {
   "cell_type": "code",
   "execution_count": 74,
   "metadata": {},
   "outputs": [],
   "source": [
    "def soma(numero1, numero2):\n",
    "    return numero1+numero2"
   ]
  },
  {
   "cell_type": "code",
   "execution_count": 75,
   "metadata": {},
   "outputs": [
    {
     "name": "stdout",
     "output_type": "stream",
     "text": [
      "1873\n"
     ]
    }
   ],
   "source": [
    "numero1 = 874\n",
    "numero2 = 999\n",
    "\n",
    "print(soma(numero1, numero2))"
   ]
  },
  {
   "cell_type": "code",
   "execution_count": null,
   "metadata": {},
   "outputs": [],
   "source": [
    "dicionarioexemplo1 = {}\n",
    "\n",
    "dicionarioexemplo2 = dict()"
   ]
  }
 ],
 "metadata": {
  "kernelspec": {
   "display_name": "venv",
   "language": "python",
   "name": "python3"
  },
  "language_info": {
   "codemirror_mode": {
    "name": "ipython",
    "version": 3
   },
   "file_extension": ".py",
   "mimetype": "text/x-python",
   "name": "python",
   "nbconvert_exporter": "python",
   "pygments_lexer": "ipython3",
   "version": "3.11.2"
  },
  "orig_nbformat": 4,
  "vscode": {
   "interpreter": {
    "hash": "23e445dd6e50f687df41ede5cd44385abe6b9274d8c9d271e5fa81b5800058a4"
   }
  }
 },
 "nbformat": 4,
 "nbformat_minor": 2
}
