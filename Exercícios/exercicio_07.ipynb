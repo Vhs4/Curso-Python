{
 "cells": [
  {
   "cell_type": "code",
   "execution_count": 3,
   "metadata": {},
   "outputs": [
    {
     "name": "stdout",
     "output_type": "stream",
     "text": [
      "O seu valor 100.0 M fica 10.0 DAM, 1.0 HM, 0.1 KM, 1000.0 DM, 10000.0 CM, 100000.0 MM.\n"
     ]
    }
   ],
   "source": [
    "metro = float(input('Insira seu valor em metro'))\n",
    "print(f\"O seu valor {metro} M fica {metro/10} DAM, {metro/100} HM, {metro/1000} KM, {metro*10} DM, {metro*100} CM, {metro*1000} MM.\")"
   ]
  }
 ],
 "metadata": {
  "kernelspec": {
   "display_name": "venv",
   "language": "python",
   "name": "python3"
  },
  "language_info": {
   "codemirror_mode": {
    "name": "ipython",
    "version": 3
   },
   "file_extension": ".py",
   "mimetype": "text/x-python",
   "name": "python",
   "nbconvert_exporter": "python",
   "pygments_lexer": "ipython3",
   "version": "3.11.2"
  },
  "orig_nbformat": 4
 },
 "nbformat": 4,
 "nbformat_minor": 2
}
