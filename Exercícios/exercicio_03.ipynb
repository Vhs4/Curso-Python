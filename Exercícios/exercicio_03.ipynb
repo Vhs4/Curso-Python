{
 "cells": [
  {
   "cell_type": "code",
   "execution_count": 9,
   "metadata": {},
   "outputs": [
    {
     "name": "stdout",
     "output_type": "stream",
     "text": [
      "O dobro de 12 é: 24\n",
      "O triplo de 12 é: 36\n",
      "A raiz quadrada de 12 é: 3.46\n"
     ]
    }
   ],
   "source": [
    "numero = int(input(\"Insira seu número\"))\n",
    "dobro = numero*2\n",
    "triplo = numero*3\n",
    "raizquadrada = numero**(1/2)\n",
    "\n",
    "print(\"O dobro de {} é: {}\".format(numero, dobro))\n",
    "print(\"O triplo de {} é: {}\".format(numero, triplo))\n",
    "print(\"A raiz quadrada de {} é: {:.2f}\".format(numero, raizquadrada))\n"
   ]
  },
  {
   "cell_type": "code",
   "execution_count": 8,
   "metadata": {},
   "outputs": [
    {
     "name": "stdout",
     "output_type": "stream",
     "text": [
      "O dobro de 4 é: 8. O triplo de 4 é: 12. A raiz quadrada de 4 é: 2.000.\n"
     ]
    }
   ],
   "source": [
    "numero = int(input(\"Insira seu número\"))\n",
    "print(f\"O dobro de {numero} é: {numero*2}. \"f\"O triplo de {numero} é: {numero*3}. \"f\"A raiz quadrada de {numero} é: {numero**(1/2):.3f}.\")"
   ]
  }
 ],
 "metadata": {
  "kernelspec": {
   "display_name": "venv",
   "language": "python",
   "name": "python3"
  },
  "language_info": {
   "codemirror_mode": {
    "name": "ipython",
    "version": 3
   },
   "file_extension": ".py",
   "mimetype": "text/x-python",
   "name": "python",
   "nbconvert_exporter": "python",
   "pygments_lexer": "ipython3",
   "version": "3.11.2"
  },
  "orig_nbformat": 4
 },
 "nbformat": 4,
 "nbformat_minor": 2
}
