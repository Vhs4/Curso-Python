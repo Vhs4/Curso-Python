{
 "cells": [
  {
   "cell_type": "code",
   "execution_count": 4,
   "metadata": {},
   "outputs": [
    {
     "name": "stdout",
     "output_type": "stream",
     "text": [
      "1: 4.0 2: 8.0 3: 12.0 4: 16.0  5: 20.0  6: 24.0  7: 28.0  8: 32.0  9: 36.0 10: 40.0\n"
     ]
    }
   ],
   "source": [
    "numero = float(input('Insira seu número'))\n",
    "print (f'1: {numero*1} 2: {numero*2} 3: {numero*3} 4: {numero*4}  5: {numero*5}  6: {numero*6}  7: {numero*7}  8: {numero*8}  9: {numero*9} 10: {numero*10}')\n"
   ]
  }
 ],
 "metadata": {
  "kernelspec": {
   "display_name": "venv",
   "language": "python",
   "name": "python3"
  },
  "language_info": {
   "codemirror_mode": {
    "name": "ipython",
    "version": 3
   },
   "file_extension": ".py",
   "mimetype": "text/x-python",
   "name": "python",
   "nbconvert_exporter": "python",
   "pygments_lexer": "ipython3",
   "version": "3.11.2"
  },
  "orig_nbformat": 4
 },
 "nbformat": 4,
 "nbformat_minor": 2
}
