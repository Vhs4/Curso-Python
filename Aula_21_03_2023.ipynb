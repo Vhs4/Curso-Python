{
 "cells": [
  {
   "attachments": {},
   "cell_type": "markdown",
   "metadata": {},
   "source": [
    "# Variáveis\n",
    "\n",
    "- integer\n",
    "- float\n",
    "- string\n",
    "- boolean"
   ]
  },
  {
   "cell_type": "code",
   "execution_count": 3,
   "metadata": {},
   "outputs": [],
   "source": [
    "valor_1 = 1 #integer\n",
    "valor_2 = 2.5 #float\n",
    "valor_3 = 'Campos dos Goytacazes' #string\n",
    "valor_4 = True #boolean"
   ]
  },
  {
   "cell_type": "code",
   "execution_count": 9,
   "metadata": {},
   "outputs": [
    {
     "name": "stdout",
     "output_type": "stream",
     "text": [
      "A variável é de valor <class 'int'>\n",
      "A varioável é de valor <class 'int'>\n"
     ]
    }
   ],
   "source": [
    "print('A variável é de valor', type(valor_1))\n",
    "\n",
    "print('A varioável é de valor {}' .format(type(valor_1)))"
   ]
  },
  {
   "attachments": {},
   "cell_type": "markdown",
   "metadata": {},
   "source": [
    "# Casting"
   ]
  },
  {
   "attachments": {},
   "cell_type": "markdown",
   "metadata": {},
   "source": [
    "- int\n",
    "- str"
   ]
  },
  {
   "attachments": {},
   "cell_type": "markdown",
   "metadata": {},
   "source": [
    "# Operadores\n",
    "\n",
    "- Soma\n",
    "- Subtração\n",
    "- Multiplicação\n",
    "- Divisão\n",
    "- Exponenciação\n",
    "- Raiz"
   ]
  },
  {
   "cell_type": "code",
   "execution_count": 18,
   "metadata": {},
   "outputs": [
    {
     "name": "stdout",
     "output_type": "stream",
     "text": [
      "9.0\n"
     ]
    }
   ],
   "source": [
    "valor = 3\n",
    "calcularraiz = valor**(2/1)\n",
    "\n",
    "print(calcularraiz)"
   ]
  },
  {
   "attachments": {},
   "cell_type": "markdown",
   "metadata": {},
   "source": [
    " - Igual ==\n",
    " - Diferença !=\n",
    " - Maior >\n",
    " - Menor <"
   ]
  },
  {
   "cell_type": "code",
   "execution_count": 22,
   "metadata": {},
   "outputs": [
    {
     "data": {
      "text/plain": [
       "False"
      ]
     },
     "execution_count": 22,
     "metadata": {},
     "output_type": "execute_result"
    }
   ],
   "source": [
    "numero_1 = 10\n",
    "numero_2 = 20\n",
    "\n",
    "numero_1 == numero_2"
   ]
  },
  {
   "cell_type": "code",
   "execution_count": 28,
   "metadata": {},
   "outputs": [
    {
     "name": "stdout",
     "output_type": "stream",
     "text": [
      "False\n",
      "False\n"
     ]
    }
   ],
   "source": [
    "texto_1 = 'Campos'\n",
    "texto_2 = 'Camposs'\n",
    "\n",
    "print(texto_1 == texto_2)\n",
    "\n",
    "texto_3 = 'A'\n",
    "texto_4 = 'a'\n",
    "\n",
    "print(texto_3 == texto_4)"
   ]
  },
  {
   "cell_type": "code",
   "execution_count": 30,
   "metadata": {},
   "outputs": [
    {
     "data": {
      "text/plain": [
       "'caixacaixa'"
      ]
     },
     "execution_count": 30,
     "metadata": {},
     "output_type": "execute_result"
    }
   ],
   "source": [
    "palavra = 'caixa'\n",
    "\n",
    "palavra * 2"
   ]
  },
  {
   "attachments": {},
   "cell_type": "markdown",
   "metadata": {},
   "source": [
    "Instruções \n",
    "\n",
    "- if\n",
    "- else\n",
    "- elseif\n",
    "- elif"
   ]
  },
  {
   "cell_type": "code",
   "execution_count": 19,
   "metadata": {},
   "outputs": [
    {
     "name": "stdout",
     "output_type": "stream",
     "text": [
      "a é igual a a.\n"
     ]
    }
   ],
   "source": [
    "a = str(input('Digite a primeira letra: '))\n",
    "b = str(input('Digite a segunda letra: '))\n",
    "\n",
    "if (a == b):\n",
    "    print('{0} é igual a {1}.' .format(a, b))\n",
    "else:\n",
    "    print('{0} não é igual a {1}.' .format(a, b))\n"
   ]
  },
  {
   "cell_type": "code",
   "execution_count": 29,
   "metadata": {},
   "outputs": [
    {
     "name": "stdout",
     "output_type": "stream",
     "text": [
      "Número de meses inválido!\n"
     ]
    }
   ],
   "source": [
    "numero_meses = int(input('Insira o número de meses:'))\n",
    "if (numero_meses <= 10):\n",
    "    print('Menor ou igual a 10')\n",
    "elif (numero_meses <= 11):\n",
    "    print('Menor ou igual a 11')\n",
    "elif (numero_meses <= 12):\n",
    "    print('Menor ou igual a 12')\n",
    "else:\n",
    "    print('Número de meses inválido!')\n"
   ]
  },
  {
   "attachments": {},
   "cell_type": "markdown",
   "metadata": {},
   "source": [
    "Operadores lógicos\n",
    "\n",
    "- and\n",
    "- or\n",
    "- not\n",
    "- is\n",
    "- is not\n",
    "- in (Está contido)\n",
    "- not in (Não está contido)"
   ]
  },
  {
   "cell_type": "code",
   "execution_count": null,
   "metadata": {},
   "outputs": [],
   "source": [
    "lista_de_compras = ['Arroz', 'Ovo']\n",
    "\n",
    "checar = str(input('Digite o item que você quer chegar se está na lista'))\n",
    "\n",
    "if checar in lista_de_compras:\n",
    "    print('Sim, o item', checar, 'está na lista de compras.')\n",
    "else:\n",
    "    print('Não, o item', checar, 'não está na lista de compras.')"
   ]
  },
  {
   "cell_type": "code",
   "execution_count": 36,
   "metadata": {},
   "outputs": [
    {
     "name": "stdout",
     "output_type": "stream",
     "text": [
      "3 1\n"
     ]
    }
   ],
   "source": [
    "x = 1\n",
    "y = 3\n",
    "\n",
    "x, y = y, x\n",
    "\n",
    "print(x, y)"
   ]
  },
  {
   "attachments": {},
   "cell_type": "markdown",
   "metadata": {},
   "source": [
    "variavel = <valor1> if (true) else <valor2>"
   ]
  },
  {
   "attachments": {},
   "cell_type": "markdown",
   "metadata": {},
   "source": [
    "Escreva a mensagem 'Número: x', onde o número x varia de 1 a 10."
   ]
  },
  {
   "cell_type": "code",
   "execution_count": 3,
   "metadata": {},
   "outputs": [
    {
     "name": "stdout",
     "output_type": "stream",
     "text": [
      "Número: 1\n",
      "Número: 2\n",
      "Número: 3\n",
      "Número: 4\n",
      "Número: 5\n",
      "Número: 6\n",
      "Número: 7\n",
      "Número: 8\n",
      "Número: 9\n",
      "Número: 10\n"
     ]
    }
   ],
   "source": [
    "numero = 1\n",
    "\n",
    "print('Número: ' + str(numero))\n",
    "\n",
    "numero += 1\n",
    "\n",
    "print('Número: ' + str(numero))\n",
    "numero += 1\n",
    "\n",
    "print('Número: ' + str(numero))\n",
    "numero += 1\n",
    "\n",
    "print('Número: ' + str(numero))\n",
    "numero += 1\n",
    "\n",
    "print('Número: ' + str(numero))\n",
    "numero += 1\n",
    "\n",
    "print('Número: ' + str(numero))\n",
    "numero += 1\n",
    "\n",
    "print('Número: ' + str(numero))\n",
    "numero += 1\n",
    "\n",
    "print('Número: ' + str(numero))\n",
    "numero += 1\n",
    "\n",
    "print('Número: ' + str(numero))\n",
    "\n",
    "numero += 1\n",
    "\n",
    "print('Número: ' + str(numero))"
   ]
  },
  {
   "attachments": {},
   "cell_type": "markdown",
   "metadata": {},
   "source": [
    "Foi apresentado o loop e o while"
   ]
  },
  {
   "cell_type": "code",
   "execution_count": 12,
   "metadata": {},
   "outputs": [
    {
     "name": "stdout",
     "output_type": "stream",
     "text": [
      "Número: 1\n",
      "Número: 2\n",
      "Número: 3\n",
      "Número: 4\n",
      "Número: 5\n",
      "Número: 6\n",
      "Número: 7\n",
      "Número: 8\n",
      "Número: 9\n",
      "Número: 10\n"
     ]
    }
   ],
   "source": [
    "numero = 1\n",
    "while (numero <= 10):\n",
    "    print('Número: ' + str(numero))\n",
    "    numero += 1"
   ]
  },
  {
   "attachments": {},
   "cell_type": "markdown",
   "metadata": {},
   "source": [
    "Foi apresentado o for"
   ]
  },
  {
   "cell_type": "code",
   "execution_count": null,
   "metadata": {},
   "outputs": [],
   "source": [
    "texto = \"Paralelepípedo\"\n",
    "type(texto)"
   ]
  },
  {
   "cell_type": "code",
   "execution_count": null,
   "metadata": {},
   "outputs": [],
   "source": [
    "for letra in texto:\n",
    "    print(letra)"
   ]
  },
  {
   "attachments": {},
   "cell_type": "markdown",
   "metadata": {},
   "source": [
    "Foi apresentado o range\n",
    "range ([start], stop, [step])"
   ]
  },
  {
   "cell_type": "code",
   "execution_count": 15,
   "metadata": {},
   "outputs": [
    {
     "name": "stdout",
     "output_type": "stream",
     "text": [
      "1\n",
      "2\n",
      "3\n",
      "4\n",
      "5\n",
      "6\n",
      "7\n",
      "8\n",
      "9\n",
      "10\n"
     ]
    }
   ],
   "source": [
    "for n in range(1, 11, 1):\n",
    "    print(n)"
   ]
  },
  {
   "cell_type": "code",
   "execution_count": 17,
   "metadata": {},
   "outputs": [
    {
     "name": "stdout",
     "output_type": "stream",
     "text": [
      "1\n",
      "2\n",
      "3\n",
      "4\n",
      "5\n",
      "6\n",
      "7\n",
      "8\n",
      "9\n",
      "10\n"
     ]
    }
   ],
   "source": [
    "for a in range(1, 11):\n",
    "    print(a)"
   ]
  },
  {
   "cell_type": "code",
   "execution_count": 23,
   "metadata": {},
   "outputs": [
    {
     "data": {
      "text/plain": [
       "[1, 2, 3, 4, 5, 6, 7, 8, 9, 10]"
      ]
     },
     "execution_count": 23,
     "metadata": {},
     "output_type": "execute_result"
    }
   ],
   "source": [
    "lista = [1, 2, 3, 4, 5, 6, 7, 8, 9, 10]\n",
    "lista"
   ]
  },
  {
   "cell_type": "code",
   "execution_count": 24,
   "metadata": {},
   "outputs": [
    {
     "name": "stdout",
     "output_type": "stream",
     "text": [
      "1\n",
      "2\n",
      "3\n",
      "4\n",
      "5\n",
      "6\n",
      "7\n",
      "8\n",
      "9\n",
      "10\n"
     ]
    }
   ],
   "source": [
    "for aa in lista:\n",
    "    print(aa)"
   ]
  },
  {
   "cell_type": "code",
   "execution_count": 29,
   "metadata": {},
   "outputs": [
    {
     "data": {
      "text/plain": [
       "[0, 1, 2, 3, 4]"
      ]
     },
     "execution_count": 29,
     "metadata": {},
     "output_type": "execute_result"
    }
   ],
   "source": [
    "numeros = range(5) #Começa de 0 e vai até 4\n",
    "list(numeros)\n"
   ]
  },
  {
   "cell_type": "code",
   "execution_count": 30,
   "metadata": {},
   "outputs": [
    {
     "name": "stdout",
     "output_type": "stream",
     "text": [
      "carne\n",
      "leite\n",
      "arroz\n"
     ]
    }
   ],
   "source": [
    "lista_de_compras = ['Carne', 'Leite', 'Arroz']\n",
    "for compras in lista_de_compras:\n",
    "    print(compras)"
   ]
  }
 ],
 "metadata": {
  "kernelspec": {
   "display_name": "venv",
   "language": "python",
   "name": "python3"
  },
  "language_info": {
   "codemirror_mode": {
    "name": "ipython",
    "version": 3
   },
   "file_extension": ".py",
   "mimetype": "text/x-python",
   "name": "python",
   "nbconvert_exporter": "python",
   "pygments_lexer": "ipython3",
   "version": "3.11.2"
  },
  "orig_nbformat": 4,
  "vscode": {
   "interpreter": {
    "hash": "23e445dd6e50f687df41ede5cd44385abe6b9274d8c9d271e5fa81b5800058a4"
   }
  }
 },
 "nbformat": 4,
 "nbformat_minor": 2
}
