{
 "cells": [
  {
   "attachments": {},
   "cell_type": "markdown",
   "metadata": {},
   "source": [
    " # Crie uma função para cada operação a seguir passando o valor x como parâmetro:\n",
    "\n",
    "- Quadrado\n",
    "- Cubo"
   ]
  },
  {
   "cell_type": "code",
   "execution_count": 12,
   "metadata": {},
   "outputs": [
    {
     "name": "stdout",
     "output_type": "stream",
     "text": [
      "O quadrado de 100 é: 10000\n",
      "O cubo de 100 é: 1000000\n"
     ]
    }
   ],
   "source": [
    "numero = int(input('Insira seu número: '))\n",
    "\n",
    "def quadrado(numero):\n",
    "    return numero**2\n",
    "    \n",
    "def cubo(numero):\n",
    "    return numero**3\n",
    "\n",
    "def funcao(numero):\n",
    "    return quadrado(numero), cubo(numero)\n",
    "\n",
    "resultado_quadrado, resultado_cubo = funcao(numero)\n",
    "print(f\"O quadrado de {numero} é: {resultado_quadrado}\")\n",
    "print(f\"O cubo de {numero} é: {resultado_cubo}\")"
   ]
  }
 ],
 "metadata": {
  "kernelspec": {
   "display_name": "venv",
   "language": "python",
   "name": "python3"
  },
  "language_info": {
   "codemirror_mode": {
    "name": "ipython",
    "version": 3
   },
   "file_extension": ".py",
   "mimetype": "text/x-python",
   "name": "python",
   "nbconvert_exporter": "python",
   "pygments_lexer": "ipython3",
   "version": "3.11.2"
  },
  "orig_nbformat": 4
 },
 "nbformat": 4,
 "nbformat_minor": 2
}
